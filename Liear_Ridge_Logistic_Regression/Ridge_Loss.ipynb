{
 "cells": [
  {
   "cell_type": "markdown",
   "metadata": {
    "id": "Ce4SRV3Sb0hD"
   },
   "source": [
    "I (We) certify that the code and data in this assignment were generated independently,using only the tools and resources defined in the course and that I (we) did not receive any external help, coaching or contributions during the production of this work"
   ]
  },
  {
   "cell_type": "markdown",
   "metadata": {
    "id": "1PL4zSLIHpH5"
   },
   "source": [
    "**Import required libraries**"
   ]
  },
  {
   "cell_type": "code",
   "execution_count": null,
   "metadata": {
    "id": "mrF-7itZb1uL"
   },
   "outputs": [],
   "source": [
    "'''Importing Library'''\n",
    "\n",
    "import pandas as pd\n",
    "import numpy as np\n",
    "import matplotlib.pyplot as plt\n",
    "from time import time"
   ]
  },
  {
   "cell_type": "markdown",
   "metadata": {
    "id": "aIdvUmxOHtji"
   },
   "source": [
    " **Read, preprocess and print main statistic about the dataset**"
   ]
  },
  {
   "cell_type": "code",
   "execution_count": null,
   "metadata": {
    "id": "31nogXA9b_2I"
   },
   "outputs": [],
   "source": [
    "'''Read the CSV File and Making a DataFrame'''\n",
    "\n",
    "df=pd.read_csv(\"insurance.csv\")\n",
    "df=pd.DataFrame(df)"
   ]
  },
  {
   "cell_type": "code",
   "execution_count": null,
   "metadata": {
    "colab": {
     "base_uri": "https://localhost:8080/"
    },
    "id": "cRagS_3X1gNL",
    "outputId": "e0786720-78f3-4bd6-d2d6-0a16ae6c22fd"
   },
   "outputs": [
    {
     "name": "stdout",
     "output_type": "stream",
     "text": [
      "      age     sex     bmi  children smoker     region      charges\n",
      "0      19  female  27.900         0    yes  southwest  16884.92400\n",
      "1      18    male  33.770         1     no  southeast   1725.55230\n",
      "2      28    male  33.000         3     no  southeast   4449.46200\n",
      "3      33    male  22.705         0     no  northwest  21984.47061\n",
      "4      32    male  28.880         0     no  northwest   3866.85520\n",
      "...   ...     ...     ...       ...    ...        ...          ...\n",
      "1333   50    male  30.970         3     no  northwest  10600.54830\n",
      "1334   18  female  31.920         0     no  northeast   2205.98080\n",
      "1335   18  female  36.850         0     no  southeast   1629.83350\n",
      "1336   21  female  25.800         0     no  southwest   2007.94500\n",
      "1337   61  female  29.070         0    yes  northwest  29141.36030\n",
      "\n",
      "[1338 rows x 7 columns]\n"
     ]
    }
   ],
   "source": [
    "'''Print the DataFrame'''\n",
    "\n",
    "print(df)"
   ]
  },
  {
   "cell_type": "code",
   "execution_count": null,
   "metadata": {
    "colab": {
     "base_uri": "https://localhost:8080/",
     "height": 300
    },
    "id": "U-T2cYKB1gKV",
    "outputId": "24f2c7e9-1810-4323-c9a6-f48d7878bdc2"
   },
   "outputs": [
    {
     "data": {
      "text/html": [
       "\n",
       "  <div id=\"df-ce6a83ac-2d55-4ac1-9b50-014dd2b4b6fb\">\n",
       "    <div class=\"colab-df-container\">\n",
       "      <div>\n",
       "<style scoped>\n",
       "    .dataframe tbody tr th:only-of-type {\n",
       "        vertical-align: middle;\n",
       "    }\n",
       "\n",
       "    .dataframe tbody tr th {\n",
       "        vertical-align: top;\n",
       "    }\n",
       "\n",
       "    .dataframe thead th {\n",
       "        text-align: right;\n",
       "    }\n",
       "</style>\n",
       "<table border=\"1\" class=\"dataframe\">\n",
       "  <thead>\n",
       "    <tr style=\"text-align: right;\">\n",
       "      <th></th>\n",
       "      <th>age</th>\n",
       "      <th>bmi</th>\n",
       "      <th>children</th>\n",
       "      <th>charges</th>\n",
       "    </tr>\n",
       "  </thead>\n",
       "  <tbody>\n",
       "    <tr>\n",
       "      <th>count</th>\n",
       "      <td>1338.000000</td>\n",
       "      <td>1338.000000</td>\n",
       "      <td>1338.000000</td>\n",
       "      <td>1338.000000</td>\n",
       "    </tr>\n",
       "    <tr>\n",
       "      <th>mean</th>\n",
       "      <td>39.207025</td>\n",
       "      <td>30.663397</td>\n",
       "      <td>1.094918</td>\n",
       "      <td>13270.422265</td>\n",
       "    </tr>\n",
       "    <tr>\n",
       "      <th>std</th>\n",
       "      <td>14.049960</td>\n",
       "      <td>6.098187</td>\n",
       "      <td>1.205493</td>\n",
       "      <td>12110.011237</td>\n",
       "    </tr>\n",
       "    <tr>\n",
       "      <th>min</th>\n",
       "      <td>18.000000</td>\n",
       "      <td>15.960000</td>\n",
       "      <td>0.000000</td>\n",
       "      <td>1121.873900</td>\n",
       "    </tr>\n",
       "    <tr>\n",
       "      <th>25%</th>\n",
       "      <td>27.000000</td>\n",
       "      <td>26.296250</td>\n",
       "      <td>0.000000</td>\n",
       "      <td>4740.287150</td>\n",
       "    </tr>\n",
       "    <tr>\n",
       "      <th>50%</th>\n",
       "      <td>39.000000</td>\n",
       "      <td>30.400000</td>\n",
       "      <td>1.000000</td>\n",
       "      <td>9382.033000</td>\n",
       "    </tr>\n",
       "    <tr>\n",
       "      <th>75%</th>\n",
       "      <td>51.000000</td>\n",
       "      <td>34.693750</td>\n",
       "      <td>2.000000</td>\n",
       "      <td>16639.912515</td>\n",
       "    </tr>\n",
       "    <tr>\n",
       "      <th>max</th>\n",
       "      <td>64.000000</td>\n",
       "      <td>53.130000</td>\n",
       "      <td>5.000000</td>\n",
       "      <td>63770.428010</td>\n",
       "    </tr>\n",
       "  </tbody>\n",
       "</table>\n",
       "</div>\n",
       "      <button class=\"colab-df-convert\" onclick=\"convertToInteractive('df-ce6a83ac-2d55-4ac1-9b50-014dd2b4b6fb')\"\n",
       "              title=\"Convert this dataframe to an interactive table.\"\n",
       "              style=\"display:none;\">\n",
       "        \n",
       "  <svg xmlns=\"http://www.w3.org/2000/svg\" height=\"24px\"viewBox=\"0 0 24 24\"\n",
       "       width=\"24px\">\n",
       "    <path d=\"M0 0h24v24H0V0z\" fill=\"none\"/>\n",
       "    <path d=\"M18.56 5.44l.94 2.06.94-2.06 2.06-.94-2.06-.94-.94-2.06-.94 2.06-2.06.94zm-11 1L8.5 8.5l.94-2.06 2.06-.94-2.06-.94L8.5 2.5l-.94 2.06-2.06.94zm10 10l.94 2.06.94-2.06 2.06-.94-2.06-.94-.94-2.06-.94 2.06-2.06.94z\"/><path d=\"M17.41 7.96l-1.37-1.37c-.4-.4-.92-.59-1.43-.59-.52 0-1.04.2-1.43.59L10.3 9.45l-7.72 7.72c-.78.78-.78 2.05 0 2.83L4 21.41c.39.39.9.59 1.41.59.51 0 1.02-.2 1.41-.59l7.78-7.78 2.81-2.81c.8-.78.8-2.07 0-2.86zM5.41 20L4 18.59l7.72-7.72 1.47 1.35L5.41 20z\"/>\n",
       "  </svg>\n",
       "      </button>\n",
       "      \n",
       "  <style>\n",
       "    .colab-df-container {\n",
       "      display:flex;\n",
       "      flex-wrap:wrap;\n",
       "      gap: 12px;\n",
       "    }\n",
       "\n",
       "    .colab-df-convert {\n",
       "      background-color: #E8F0FE;\n",
       "      border: none;\n",
       "      border-radius: 50%;\n",
       "      cursor: pointer;\n",
       "      display: none;\n",
       "      fill: #1967D2;\n",
       "      height: 32px;\n",
       "      padding: 0 0 0 0;\n",
       "      width: 32px;\n",
       "    }\n",
       "\n",
       "    .colab-df-convert:hover {\n",
       "      background-color: #E2EBFA;\n",
       "      box-shadow: 0px 1px 2px rgba(60, 64, 67, 0.3), 0px 1px 3px 1px rgba(60, 64, 67, 0.15);\n",
       "      fill: #174EA6;\n",
       "    }\n",
       "\n",
       "    [theme=dark] .colab-df-convert {\n",
       "      background-color: #3B4455;\n",
       "      fill: #D2E3FC;\n",
       "    }\n",
       "\n",
       "    [theme=dark] .colab-df-convert:hover {\n",
       "      background-color: #434B5C;\n",
       "      box-shadow: 0px 1px 3px 1px rgba(0, 0, 0, 0.15);\n",
       "      filter: drop-shadow(0px 1px 2px rgba(0, 0, 0, 0.3));\n",
       "      fill: #FFFFFF;\n",
       "    }\n",
       "  </style>\n",
       "\n",
       "      <script>\n",
       "        const buttonEl =\n",
       "          document.querySelector('#df-ce6a83ac-2d55-4ac1-9b50-014dd2b4b6fb button.colab-df-convert');\n",
       "        buttonEl.style.display =\n",
       "          google.colab.kernel.accessAllowed ? 'block' : 'none';\n",
       "\n",
       "        async function convertToInteractive(key) {\n",
       "          const element = document.querySelector('#df-ce6a83ac-2d55-4ac1-9b50-014dd2b4b6fb');\n",
       "          const dataTable =\n",
       "            await google.colab.kernel.invokeFunction('convertToInteractive',\n",
       "                                                     [key], {});\n",
       "          if (!dataTable) return;\n",
       "\n",
       "          const docLinkHtml = 'Like what you see? Visit the ' +\n",
       "            '<a target=\"_blank\" href=https://colab.research.google.com/notebooks/data_table.ipynb>data table notebook</a>'\n",
       "            + ' to learn more about interactive tables.';\n",
       "          element.innerHTML = '';\n",
       "          dataTable['output_type'] = 'display_data';\n",
       "          await google.colab.output.renderOutput(dataTable, element);\n",
       "          const docLink = document.createElement('div');\n",
       "          docLink.innerHTML = docLinkHtml;\n",
       "          element.appendChild(docLink);\n",
       "        }\n",
       "      </script>\n",
       "    </div>\n",
       "  </div>\n",
       "  "
      ],
      "text/plain": [
       "               age          bmi     children       charges\n",
       "count  1338.000000  1338.000000  1338.000000   1338.000000\n",
       "mean     39.207025    30.663397     1.094918  13270.422265\n",
       "std      14.049960     6.098187     1.205493  12110.011237\n",
       "min      18.000000    15.960000     0.000000   1121.873900\n",
       "25%      27.000000    26.296250     0.000000   4740.287150\n",
       "50%      39.000000    30.400000     1.000000   9382.033000\n",
       "75%      51.000000    34.693750     2.000000  16639.912515\n",
       "max      64.000000    53.130000     5.000000  63770.428010"
      ]
     },
     "execution_count": 5,
     "metadata": {},
     "output_type": "execute_result"
    }
   ],
   "source": [
    "df.describe()"
   ]
  },
  {
   "cell_type": "code",
   "execution_count": null,
   "metadata": {
    "colab": {
     "base_uri": "https://localhost:8080/"
    },
    "id": "Hj0KmQnu1gHv",
    "outputId": "7e76c83a-7846-4cd1-a33a-e2bf5089fc91"
   },
   "outputs": [
    {
     "name": "stdout",
     "output_type": "stream",
     "text": [
      "<class 'pandas.core.frame.DataFrame'>\n",
      "RangeIndex: 1338 entries, 0 to 1337\n",
      "Data columns (total 7 columns):\n",
      " #   Column    Non-Null Count  Dtype  \n",
      "---  ------    --------------  -----  \n",
      " 0   age       1338 non-null   int64  \n",
      " 1   sex       1338 non-null   object \n",
      " 2   bmi       1338 non-null   float64\n",
      " 3   children  1338 non-null   int64  \n",
      " 4   smoker    1338 non-null   object \n",
      " 5   region    1338 non-null   object \n",
      " 6   charges   1338 non-null   float64\n",
      "dtypes: float64(2), int64(2), object(3)\n",
      "memory usage: 73.3+ KB\n",
      "None\n"
     ]
    }
   ],
   "source": [
    "'''Basic Information of the dataset'''\n",
    "\n",
    "print(df.info())"
   ]
  },
  {
   "cell_type": "code",
   "execution_count": null,
   "metadata": {
    "id": "G4eGVFWG1pe9"
   },
   "outputs": [],
   "source": [
    "'''Converting SEX to number feature'''\n",
    "\n",
    "df.sex = [1 if each == \"female\" else 0 for each in df.sex]"
   ]
  },
  {
   "cell_type": "code",
   "execution_count": null,
   "metadata": {
    "id": "L5wY15Ow1pcw"
   },
   "outputs": [],
   "source": [
    "'''Converting SMOKER to number feature'''\n",
    "\n",
    "df.smoker = [1 if each == \"yes\" else 0 for each in df.smoker]"
   ]
  },
  {
   "cell_type": "code",
   "execution_count": null,
   "metadata": {
    "id": "84eMbUwm1gE4"
   },
   "outputs": [],
   "source": [
    "'''Converting REGION to number feature'''\n",
    "\n",
    "region = {'southwest':1,'southeast':2, 'northwest': 3,'northeast':4}\n",
    "df.region = [region[item] for item in df.region] "
   ]
  },
  {
   "cell_type": "code",
   "execution_count": null,
   "metadata": {
    "colab": {
     "base_uri": "https://localhost:8080/"
    },
    "id": "Q9Jbt9Q81gCg",
    "outputId": "c0cff73b-7d38-4bd8-fa37-f877b912d048"
   },
   "outputs": [
    {
     "name": "stdout",
     "output_type": "stream",
     "text": [
      "      age  sex     bmi  children  smoker  region      charges\n",
      "0      19    1  27.900         0       1       1  16884.92400\n",
      "1      18    0  33.770         1       0       2   1725.55230\n",
      "2      28    0  33.000         3       0       2   4449.46200\n",
      "3      33    0  22.705         0       0       3  21984.47061\n",
      "4      32    0  28.880         0       0       3   3866.85520\n",
      "...   ...  ...     ...       ...     ...     ...          ...\n",
      "1333   50    0  30.970         3       0       3  10600.54830\n",
      "1334   18    1  31.920         0       0       4   2205.98080\n",
      "1335   18    1  36.850         0       0       2   1629.83350\n",
      "1336   21    1  25.800         0       0       1   2007.94500\n",
      "1337   61    1  29.070         0       1       3  29141.36030\n",
      "\n",
      "[1338 rows x 7 columns]\n"
     ]
    }
   ],
   "source": [
    "'''displaying the dataframe with modifications'''\n",
    "print(df)"
   ]
  },
  {
   "cell_type": "code",
   "execution_count": null,
   "metadata": {
    "colab": {
     "base_uri": "https://localhost:8080/"
    },
    "id": "JPiw6TND1f7p",
    "outputId": "7188ecf6-9f45-4e9a-f775-fb82f8a04043"
   },
   "outputs": [
    {
     "name": "stdout",
     "output_type": "stream",
     "text": [
      "               age          sex          bmi     children       smoker  \\\n",
      "count  1338.000000  1338.000000  1338.000000  1338.000000  1338.000000   \n",
      "mean     39.207025     0.494768    30.663397     1.094918     0.204783   \n",
      "std      14.049960     0.500160     6.098187     1.205493     0.403694   \n",
      "min      18.000000     0.000000    15.960000     0.000000     0.000000   \n",
      "25%      27.000000     0.000000    26.296250     0.000000     0.000000   \n",
      "50%      39.000000     0.000000    30.400000     1.000000     0.000000   \n",
      "75%      51.000000     1.000000    34.693750     2.000000     0.000000   \n",
      "max      64.000000     1.000000    53.130000     5.000000     1.000000   \n",
      "\n",
      "            region       charges  \n",
      "count  1338.000000   1338.000000  \n",
      "mean      2.484305  13270.422265  \n",
      "std       1.104885  12110.011237  \n",
      "min       1.000000   1121.873900  \n",
      "25%       2.000000   4740.287150  \n",
      "50%       2.000000   9382.033000  \n",
      "75%       3.000000  16639.912515  \n",
      "max       4.000000  63770.428010  \n"
     ]
    }
   ],
   "source": [
    "'''Basic Statistics of the Dataset- DESCRIBE'''\n",
    "\n",
    "print(df.describe())"
   ]
  },
  {
   "cell_type": "code",
   "execution_count": null,
   "metadata": {
    "colab": {
     "base_uri": "https://localhost:8080/",
     "height": 269
    },
    "id": "xda8CFFb18L2",
    "outputId": "18554bd7-bfcf-469c-d037-cfe52ec47a27"
   },
   "outputs": [
    {
     "data": {
      "text/html": [
       "\n",
       "  <div id=\"df-a6d0af1b-cb20-44d2-be86-1401e9e7b4e5\">\n",
       "    <div class=\"colab-df-container\">\n",
       "      <div>\n",
       "<style scoped>\n",
       "    .dataframe tbody tr th:only-of-type {\n",
       "        vertical-align: middle;\n",
       "    }\n",
       "\n",
       "    .dataframe tbody tr th {\n",
       "        vertical-align: top;\n",
       "    }\n",
       "\n",
       "    .dataframe thead th {\n",
       "        text-align: right;\n",
       "    }\n",
       "</style>\n",
       "<table border=\"1\" class=\"dataframe\">\n",
       "  <thead>\n",
       "    <tr style=\"text-align: right;\">\n",
       "      <th></th>\n",
       "      <th>age</th>\n",
       "      <th>sex</th>\n",
       "      <th>bmi</th>\n",
       "      <th>children</th>\n",
       "      <th>smoker</th>\n",
       "      <th>region</th>\n",
       "      <th>charges</th>\n",
       "    </tr>\n",
       "  </thead>\n",
       "  <tbody>\n",
       "    <tr>\n",
       "      <th>age</th>\n",
       "      <td>1.000000</td>\n",
       "      <td>0.020856</td>\n",
       "      <td>0.109272</td>\n",
       "      <td>0.042469</td>\n",
       "      <td>-0.025019</td>\n",
       "      <td>-0.002127</td>\n",
       "      <td>0.299008</td>\n",
       "    </tr>\n",
       "    <tr>\n",
       "      <th>sex</th>\n",
       "      <td>0.020856</td>\n",
       "      <td>1.000000</td>\n",
       "      <td>-0.046371</td>\n",
       "      <td>-0.017163</td>\n",
       "      <td>-0.076185</td>\n",
       "      <td>0.004588</td>\n",
       "      <td>-0.057292</td>\n",
       "    </tr>\n",
       "    <tr>\n",
       "      <th>bmi</th>\n",
       "      <td>0.109272</td>\n",
       "      <td>-0.046371</td>\n",
       "      <td>1.000000</td>\n",
       "      <td>0.012759</td>\n",
       "      <td>0.003750</td>\n",
       "      <td>-0.157566</td>\n",
       "      <td>0.198341</td>\n",
       "    </tr>\n",
       "    <tr>\n",
       "      <th>children</th>\n",
       "      <td>0.042469</td>\n",
       "      <td>-0.017163</td>\n",
       "      <td>0.012759</td>\n",
       "      <td>1.000000</td>\n",
       "      <td>0.007673</td>\n",
       "      <td>-0.016569</td>\n",
       "      <td>0.067998</td>\n",
       "    </tr>\n",
       "    <tr>\n",
       "      <th>smoker</th>\n",
       "      <td>-0.025019</td>\n",
       "      <td>-0.076185</td>\n",
       "      <td>0.003750</td>\n",
       "      <td>0.007673</td>\n",
       "      <td>1.000000</td>\n",
       "      <td>0.002181</td>\n",
       "      <td>0.787251</td>\n",
       "    </tr>\n",
       "    <tr>\n",
       "      <th>region</th>\n",
       "      <td>-0.002127</td>\n",
       "      <td>0.004588</td>\n",
       "      <td>-0.157566</td>\n",
       "      <td>-0.016569</td>\n",
       "      <td>0.002181</td>\n",
       "      <td>1.000000</td>\n",
       "      <td>0.006208</td>\n",
       "    </tr>\n",
       "    <tr>\n",
       "      <th>charges</th>\n",
       "      <td>0.299008</td>\n",
       "      <td>-0.057292</td>\n",
       "      <td>0.198341</td>\n",
       "      <td>0.067998</td>\n",
       "      <td>0.787251</td>\n",
       "      <td>0.006208</td>\n",
       "      <td>1.000000</td>\n",
       "    </tr>\n",
       "  </tbody>\n",
       "</table>\n",
       "</div>\n",
       "      <button class=\"colab-df-convert\" onclick=\"convertToInteractive('df-a6d0af1b-cb20-44d2-be86-1401e9e7b4e5')\"\n",
       "              title=\"Convert this dataframe to an interactive table.\"\n",
       "              style=\"display:none;\">\n",
       "        \n",
       "  <svg xmlns=\"http://www.w3.org/2000/svg\" height=\"24px\"viewBox=\"0 0 24 24\"\n",
       "       width=\"24px\">\n",
       "    <path d=\"M0 0h24v24H0V0z\" fill=\"none\"/>\n",
       "    <path d=\"M18.56 5.44l.94 2.06.94-2.06 2.06-.94-2.06-.94-.94-2.06-.94 2.06-2.06.94zm-11 1L8.5 8.5l.94-2.06 2.06-.94-2.06-.94L8.5 2.5l-.94 2.06-2.06.94zm10 10l.94 2.06.94-2.06 2.06-.94-2.06-.94-.94-2.06-.94 2.06-2.06.94z\"/><path d=\"M17.41 7.96l-1.37-1.37c-.4-.4-.92-.59-1.43-.59-.52 0-1.04.2-1.43.59L10.3 9.45l-7.72 7.72c-.78.78-.78 2.05 0 2.83L4 21.41c.39.39.9.59 1.41.59.51 0 1.02-.2 1.41-.59l7.78-7.78 2.81-2.81c.8-.78.8-2.07 0-2.86zM5.41 20L4 18.59l7.72-7.72 1.47 1.35L5.41 20z\"/>\n",
       "  </svg>\n",
       "      </button>\n",
       "      \n",
       "  <style>\n",
       "    .colab-df-container {\n",
       "      display:flex;\n",
       "      flex-wrap:wrap;\n",
       "      gap: 12px;\n",
       "    }\n",
       "\n",
       "    .colab-df-convert {\n",
       "      background-color: #E8F0FE;\n",
       "      border: none;\n",
       "      border-radius: 50%;\n",
       "      cursor: pointer;\n",
       "      display: none;\n",
       "      fill: #1967D2;\n",
       "      height: 32px;\n",
       "      padding: 0 0 0 0;\n",
       "      width: 32px;\n",
       "    }\n",
       "\n",
       "    .colab-df-convert:hover {\n",
       "      background-color: #E2EBFA;\n",
       "      box-shadow: 0px 1px 2px rgba(60, 64, 67, 0.3), 0px 1px 3px 1px rgba(60, 64, 67, 0.15);\n",
       "      fill: #174EA6;\n",
       "    }\n",
       "\n",
       "    [theme=dark] .colab-df-convert {\n",
       "      background-color: #3B4455;\n",
       "      fill: #D2E3FC;\n",
       "    }\n",
       "\n",
       "    [theme=dark] .colab-df-convert:hover {\n",
       "      background-color: #434B5C;\n",
       "      box-shadow: 0px 1px 3px 1px rgba(0, 0, 0, 0.15);\n",
       "      filter: drop-shadow(0px 1px 2px rgba(0, 0, 0, 0.3));\n",
       "      fill: #FFFFFF;\n",
       "    }\n",
       "  </style>\n",
       "\n",
       "      <script>\n",
       "        const buttonEl =\n",
       "          document.querySelector('#df-a6d0af1b-cb20-44d2-be86-1401e9e7b4e5 button.colab-df-convert');\n",
       "        buttonEl.style.display =\n",
       "          google.colab.kernel.accessAllowed ? 'block' : 'none';\n",
       "\n",
       "        async function convertToInteractive(key) {\n",
       "          const element = document.querySelector('#df-a6d0af1b-cb20-44d2-be86-1401e9e7b4e5');\n",
       "          const dataTable =\n",
       "            await google.colab.kernel.invokeFunction('convertToInteractive',\n",
       "                                                     [key], {});\n",
       "          if (!dataTable) return;\n",
       "\n",
       "          const docLinkHtml = 'Like what you see? Visit the ' +\n",
       "            '<a target=\"_blank\" href=https://colab.research.google.com/notebooks/data_table.ipynb>data table notebook</a>'\n",
       "            + ' to learn more about interactive tables.';\n",
       "          element.innerHTML = '';\n",
       "          dataTable['output_type'] = 'display_data';\n",
       "          await google.colab.output.renderOutput(dataTable, element);\n",
       "          const docLink = document.createElement('div');\n",
       "          docLink.innerHTML = docLinkHtml;\n",
       "          element.appendChild(docLink);\n",
       "        }\n",
       "      </script>\n",
       "    </div>\n",
       "  </div>\n",
       "  "
      ],
      "text/plain": [
       "               age       sex       bmi  children    smoker    region   charges\n",
       "age       1.000000  0.020856  0.109272  0.042469 -0.025019 -0.002127  0.299008\n",
       "sex       0.020856  1.000000 -0.046371 -0.017163 -0.076185  0.004588 -0.057292\n",
       "bmi       0.109272 -0.046371  1.000000  0.012759  0.003750 -0.157566  0.198341\n",
       "children  0.042469 -0.017163  0.012759  1.000000  0.007673 -0.016569  0.067998\n",
       "smoker   -0.025019 -0.076185  0.003750  0.007673  1.000000  0.002181  0.787251\n",
       "region   -0.002127  0.004588 -0.157566 -0.016569  0.002181  1.000000  0.006208\n",
       "charges   0.299008 -0.057292  0.198341  0.067998  0.787251  0.006208  1.000000"
      ]
     },
     "execution_count": 12,
     "metadata": {},
     "output_type": "execute_result"
    }
   ],
   "source": [
    "'''Correlation of the Dataset'''\n",
    "\n",
    "df.corr()"
   ]
  },
  {
   "cell_type": "code",
   "execution_count": null,
   "metadata": {
    "id": "7g3DkEXb18JN"
   },
   "outputs": [],
   "source": [
    "'''Dropping Column Sex,children,region as the have a very correlation to charges'''\n",
    "\n",
    "df = df.drop([\"sex\", \"children\", \"region\"], axis=1)"
   ]
  },
  {
   "cell_type": "code",
   "execution_count": null,
   "metadata": {
    "colab": {
     "base_uri": "https://localhost:8080/"
    },
    "id": "Yc9rkq0n18Go",
    "outputId": "ed5fc6cc-5a98-4043-fa71-0b7df110b09a"
   },
   "outputs": [
    {
     "data": {
      "text/plain": [
       "<bound method NDFrame.head of       age     bmi  smoker      charges\n",
       "0      19  27.900       1  16884.92400\n",
       "1      18  33.770       0   1725.55230\n",
       "2      28  33.000       0   4449.46200\n",
       "3      33  22.705       0  21984.47061\n",
       "4      32  28.880       0   3866.85520\n",
       "...   ...     ...     ...          ...\n",
       "1333   50  30.970       0  10600.54830\n",
       "1334   18  31.920       0   2205.98080\n",
       "1335   18  36.850       0   1629.83350\n",
       "1336   21  25.800       0   2007.94500\n",
       "1337   61  29.070       1  29141.36030\n",
       "\n",
       "[1338 rows x 4 columns]>"
      ]
     },
     "execution_count": 14,
     "metadata": {},
     "output_type": "execute_result"
    }
   ],
   "source": [
    "'''Printing Head of the dataset'''\n",
    "df.head"
   ]
  },
  {
   "cell_type": "code",
   "execution_count": null,
   "metadata": {
    "colab": {
     "base_uri": "https://localhost:8080/"
    },
    "id": "DlAUG5OI2BdG",
    "outputId": "8567af68-1e87-4374-832f-8baa549755e9"
   },
   "outputs": [
    {
     "name": "stdout",
     "output_type": "stream",
     "text": [
      "      age     bmi  smoker\n",
      "0      19  27.900       1\n",
      "1      18  33.770       0\n",
      "2      28  33.000       0\n",
      "3      33  22.705       0\n",
      "4      32  28.880       0\n",
      "...   ...     ...     ...\n",
      "1333   50  30.970       0\n",
      "1334   18  31.920       0\n",
      "1335   18  36.850       0\n",
      "1336   21  25.800       0\n",
      "1337   61  29.070       1\n",
      "\n",
      "[1338 rows x 3 columns]\n"
     ]
    }
   ],
   "source": [
    "x=df[['age','bmi','smoker']]\n",
    "print(x)"
   ]
  },
  {
   "cell_type": "markdown",
   "metadata": {
    "id": "UDmwBic7IOQs"
   },
   "source": [
    "**Normalizing Data**"
   ]
  },
  {
   "cell_type": "code",
   "execution_count": null,
   "metadata": {
    "colab": {
     "base_uri": "https://localhost:8080/",
     "height": 423
    },
    "id": "DCFyASGM18Bf",
    "outputId": "b7383d11-71fa-4fab-8a56-439eba86d191"
   },
   "outputs": [
    {
     "data": {
      "text/html": [
       "\n",
       "  <div id=\"df-531b342b-79d4-4b56-931b-6e1fa21d0b74\">\n",
       "    <div class=\"colab-df-container\">\n",
       "      <div>\n",
       "<style scoped>\n",
       "    .dataframe tbody tr th:only-of-type {\n",
       "        vertical-align: middle;\n",
       "    }\n",
       "\n",
       "    .dataframe tbody tr th {\n",
       "        vertical-align: top;\n",
       "    }\n",
       "\n",
       "    .dataframe thead th {\n",
       "        text-align: right;\n",
       "    }\n",
       "</style>\n",
       "<table border=\"1\" class=\"dataframe\">\n",
       "  <thead>\n",
       "    <tr style=\"text-align: right;\">\n",
       "      <th></th>\n",
       "      <th>age</th>\n",
       "      <th>bmi</th>\n",
       "      <th>smoker</th>\n",
       "    </tr>\n",
       "  </thead>\n",
       "  <tbody>\n",
       "    <tr>\n",
       "      <th>0</th>\n",
       "      <td>0.296875</td>\n",
       "      <td>0.525127</td>\n",
       "      <td>1.0</td>\n",
       "    </tr>\n",
       "    <tr>\n",
       "      <th>1</th>\n",
       "      <td>0.281250</td>\n",
       "      <td>0.635611</td>\n",
       "      <td>0.0</td>\n",
       "    </tr>\n",
       "    <tr>\n",
       "      <th>2</th>\n",
       "      <td>0.437500</td>\n",
       "      <td>0.621118</td>\n",
       "      <td>0.0</td>\n",
       "    </tr>\n",
       "    <tr>\n",
       "      <th>3</th>\n",
       "      <td>0.515625</td>\n",
       "      <td>0.427348</td>\n",
       "      <td>0.0</td>\n",
       "    </tr>\n",
       "    <tr>\n",
       "      <th>4</th>\n",
       "      <td>0.500000</td>\n",
       "      <td>0.543572</td>\n",
       "      <td>0.0</td>\n",
       "    </tr>\n",
       "    <tr>\n",
       "      <th>...</th>\n",
       "      <td>...</td>\n",
       "      <td>...</td>\n",
       "      <td>...</td>\n",
       "    </tr>\n",
       "    <tr>\n",
       "      <th>1333</th>\n",
       "      <td>0.781250</td>\n",
       "      <td>0.582910</td>\n",
       "      <td>0.0</td>\n",
       "    </tr>\n",
       "    <tr>\n",
       "      <th>1334</th>\n",
       "      <td>0.281250</td>\n",
       "      <td>0.600791</td>\n",
       "      <td>0.0</td>\n",
       "    </tr>\n",
       "    <tr>\n",
       "      <th>1335</th>\n",
       "      <td>0.281250</td>\n",
       "      <td>0.693582</td>\n",
       "      <td>0.0</td>\n",
       "    </tr>\n",
       "    <tr>\n",
       "      <th>1336</th>\n",
       "      <td>0.328125</td>\n",
       "      <td>0.485601</td>\n",
       "      <td>0.0</td>\n",
       "    </tr>\n",
       "    <tr>\n",
       "      <th>1337</th>\n",
       "      <td>0.953125</td>\n",
       "      <td>0.547149</td>\n",
       "      <td>1.0</td>\n",
       "    </tr>\n",
       "  </tbody>\n",
       "</table>\n",
       "<p>1338 rows × 3 columns</p>\n",
       "</div>\n",
       "      <button class=\"colab-df-convert\" onclick=\"convertToInteractive('df-531b342b-79d4-4b56-931b-6e1fa21d0b74')\"\n",
       "              title=\"Convert this dataframe to an interactive table.\"\n",
       "              style=\"display:none;\">\n",
       "        \n",
       "  <svg xmlns=\"http://www.w3.org/2000/svg\" height=\"24px\"viewBox=\"0 0 24 24\"\n",
       "       width=\"24px\">\n",
       "    <path d=\"M0 0h24v24H0V0z\" fill=\"none\"/>\n",
       "    <path d=\"M18.56 5.44l.94 2.06.94-2.06 2.06-.94-2.06-.94-.94-2.06-.94 2.06-2.06.94zm-11 1L8.5 8.5l.94-2.06 2.06-.94-2.06-.94L8.5 2.5l-.94 2.06-2.06.94zm10 10l.94 2.06.94-2.06 2.06-.94-2.06-.94-.94-2.06-.94 2.06-2.06.94z\"/><path d=\"M17.41 7.96l-1.37-1.37c-.4-.4-.92-.59-1.43-.59-.52 0-1.04.2-1.43.59L10.3 9.45l-7.72 7.72c-.78.78-.78 2.05 0 2.83L4 21.41c.39.39.9.59 1.41.59.51 0 1.02-.2 1.41-.59l7.78-7.78 2.81-2.81c.8-.78.8-2.07 0-2.86zM5.41 20L4 18.59l7.72-7.72 1.47 1.35L5.41 20z\"/>\n",
       "  </svg>\n",
       "      </button>\n",
       "      \n",
       "  <style>\n",
       "    .colab-df-container {\n",
       "      display:flex;\n",
       "      flex-wrap:wrap;\n",
       "      gap: 12px;\n",
       "    }\n",
       "\n",
       "    .colab-df-convert {\n",
       "      background-color: #E8F0FE;\n",
       "      border: none;\n",
       "      border-radius: 50%;\n",
       "      cursor: pointer;\n",
       "      display: none;\n",
       "      fill: #1967D2;\n",
       "      height: 32px;\n",
       "      padding: 0 0 0 0;\n",
       "      width: 32px;\n",
       "    }\n",
       "\n",
       "    .colab-df-convert:hover {\n",
       "      background-color: #E2EBFA;\n",
       "      box-shadow: 0px 1px 2px rgba(60, 64, 67, 0.3), 0px 1px 3px 1px rgba(60, 64, 67, 0.15);\n",
       "      fill: #174EA6;\n",
       "    }\n",
       "\n",
       "    [theme=dark] .colab-df-convert {\n",
       "      background-color: #3B4455;\n",
       "      fill: #D2E3FC;\n",
       "    }\n",
       "\n",
       "    [theme=dark] .colab-df-convert:hover {\n",
       "      background-color: #434B5C;\n",
       "      box-shadow: 0px 1px 3px 1px rgba(0, 0, 0, 0.15);\n",
       "      filter: drop-shadow(0px 1px 2px rgba(0, 0, 0, 0.3));\n",
       "      fill: #FFFFFF;\n",
       "    }\n",
       "  </style>\n",
       "\n",
       "      <script>\n",
       "        const buttonEl =\n",
       "          document.querySelector('#df-531b342b-79d4-4b56-931b-6e1fa21d0b74 button.colab-df-convert');\n",
       "        buttonEl.style.display =\n",
       "          google.colab.kernel.accessAllowed ? 'block' : 'none';\n",
       "\n",
       "        async function convertToInteractive(key) {\n",
       "          const element = document.querySelector('#df-531b342b-79d4-4b56-931b-6e1fa21d0b74');\n",
       "          const dataTable =\n",
       "            await google.colab.kernel.invokeFunction('convertToInteractive',\n",
       "                                                     [key], {});\n",
       "          if (!dataTable) return;\n",
       "\n",
       "          const docLinkHtml = 'Like what you see? Visit the ' +\n",
       "            '<a target=\"_blank\" href=https://colab.research.google.com/notebooks/data_table.ipynb>data table notebook</a>'\n",
       "            + ' to learn more about interactive tables.';\n",
       "          element.innerHTML = '';\n",
       "          dataTable['output_type'] = 'display_data';\n",
       "          await google.colab.output.renderOutput(dataTable, element);\n",
       "          const docLink = document.createElement('div');\n",
       "          docLink.innerHTML = docLinkHtml;\n",
       "          element.appendChild(docLink);\n",
       "        }\n",
       "      </script>\n",
       "    </div>\n",
       "  </div>\n",
       "  "
      ],
      "text/plain": [
       "           age       bmi  smoker\n",
       "0     0.296875  0.525127     1.0\n",
       "1     0.281250  0.635611     0.0\n",
       "2     0.437500  0.621118     0.0\n",
       "3     0.515625  0.427348     0.0\n",
       "4     0.500000  0.543572     0.0\n",
       "...        ...       ...     ...\n",
       "1333  0.781250  0.582910     0.0\n",
       "1334  0.281250  0.600791     0.0\n",
       "1335  0.281250  0.693582     0.0\n",
       "1336  0.328125  0.485601     0.0\n",
       "1337  0.953125  0.547149     1.0\n",
       "\n",
       "[1338 rows x 3 columns]"
      ]
     },
     "metadata": {},
     "output_type": "display_data"
    }
   ],
   "source": [
    "'''normailizing data of X'''\n",
    "\n",
    "x_norm= x.copy()\n",
    "\n",
    "for column in x_norm.columns:\n",
    "    x_norm[column] = x_norm[column]  / x_norm[column].abs().max()\n",
    "      \n",
    "# view normalized data\n",
    "display(x_norm)"
   ]
  },
  {
   "cell_type": "markdown",
   "metadata": {
    "id": "-0Cdb0E3IT-q"
   },
   "source": [
    "**Selecting** **y_test**"
   ]
  },
  {
   "cell_type": "code",
   "execution_count": null,
   "metadata": {
    "colab": {
     "base_uri": "https://localhost:8080/"
    },
    "id": "QxGapyT_2Bae",
    "outputId": "7f2c47d1-842a-4f56-fc28-8cd5d5525677"
   },
   "outputs": [
    {
     "name": "stdout",
     "output_type": "stream",
     "text": [
      "          charges\n",
      "0     16884.92400\n",
      "1      1725.55230\n",
      "2      4449.46200\n",
      "3     21984.47061\n",
      "4      3866.85520\n",
      "...           ...\n",
      "1333  10600.54830\n",
      "1334   2205.98080\n",
      "1335   1629.83350\n",
      "1336   2007.94500\n",
      "1337  29141.36030\n",
      "\n",
      "[1338 rows x 1 columns]\n"
     ]
    }
   ],
   "source": [
    "y=df[['charges']]\n",
    "print(y)"
   ]
  },
  {
   "cell_type": "markdown",
   "metadata": {
    "id": "JLnIxyXMIa9D"
   },
   "source": [
    "**print x_train, x_test**"
   ]
  },
  {
   "cell_type": "code",
   "execution_count": null,
   "metadata": {
    "colab": {
     "base_uri": "https://localhost:8080/"
    },
    "id": "PvXiqwmS2BYY",
    "outputId": "e0bd8dd5-7c52-46f9-a9fb-dd60a16236b5"
   },
   "outputs": [
    {
     "name": "stdout",
     "output_type": "stream",
     "text": [
      "(1070, 3)\n",
      "(268, 3)\n"
     ]
    }
   ],
   "source": [
    "x_train = x_norm.sample(frac = 0.80)\n",
    "x_test = x_norm.drop(x_train.index)\n",
    "\n",
    "print(x_train.shape)\n",
    "print(x_test.shape)"
   ]
  },
  {
   "cell_type": "markdown",
   "metadata": {
    "id": "1urEg4zTIhJn"
   },
   "source": [
    "**print y_train, y_test**"
   ]
  },
  {
   "cell_type": "code",
   "execution_count": null,
   "metadata": {
    "colab": {
     "base_uri": "https://localhost:8080/"
    },
    "id": "rcOTraB02JQv",
    "outputId": "dc3cf420-8c52-4f6f-99b3-aee5ca8b13bf"
   },
   "outputs": [
    {
     "name": "stdout",
     "output_type": "stream",
     "text": [
      "(1070, 1)\n",
      "(268, 1)\n"
     ]
    }
   ],
   "source": [
    "y_train = y.sample(frac = 0.80)\n",
    "y_test = y.drop(y_train.index)\n",
    "\n",
    "print(y_train.shape)\n",
    "print(y_test.shape)"
   ]
  },
  {
   "cell_type": "markdown",
   "metadata": {
    "id": "Dp-vdcUwjxel"
   },
   "source": [
    "**RIDGE REGRESSION**"
   ]
  },
  {
   "cell_type": "markdown",
   "metadata": {
    "id": "kwN1pnNkI2r3"
   },
   "source": [
    "**Prediction function**"
   ]
  },
  {
   "cell_type": "code",
   "execution_count": null,
   "metadata": {
    "id": "QLaLLLftjvxs"
   },
   "outputs": [],
   "source": [
    "def predict(x, w, b) :    \n",
    "        return x.dot(w) + b"
   ]
  },
  {
   "cell_type": "markdown",
   "metadata": {
    "id": "Tn6MeKgRI93c"
   },
   "source": [
    "**CalulateOLS function**"
   ]
  },
  {
   "cell_type": "code",
   "execution_count": null,
   "metadata": {
    "id": "hhsGZhLfkQCN"
   },
   "outputs": [],
   "source": [
    "def CalculateOLS(x, y, lam = 100):\n",
    "  r, c = x.shape\n",
    "  w = np.dot(np.linalg.inv(np.dot(np.transpose(x),x) + lam * np.identity(c)), np.dot(np.transpose(x),y))\n",
    "  return w"
   ]
  },
  {
   "cell_type": "markdown",
   "metadata": {
    "id": "Sp0YwC3dJTfl"
   },
   "source": [
    "**ChangeWeights function**\n",
    "\n",
    "Parts:\n",
    "Gradient Descent\n",
    "Weight, Bias Calulation"
   ]
  },
  {
   "cell_type": "code",
   "execution_count": null,
   "metadata": {
    "id": "1ZWRzm_4plYW"
   },
   "outputs": [],
   "source": [
    "def change_weights(x, y, w, b, l2_penality, learning_rate) :\t\t\n",
    "  Y_pred = predict(x,w,b)\n",
    "  m, n = x.shape\n",
    "  \n",
    "  dW = ( - ( 2 * ( x.T ).dot( y - Y_pred ) ) +\t( 2 * l2_penality * w ) ) / m\t\n",
    "  db = - 2 * np.sum( y - Y_pred ) / m\n",
    "  \n",
    "  w = w - learning_rate * dW\t\n",
    "  b = b - learning_rate * db\t\t\n",
    "  return w, b"
   ]
  },
  {
   "cell_type": "markdown",
   "metadata": {
    "id": "cq6KLWAGJiSE"
   },
   "source": [
    "**Function for Training the model**"
   ]
  },
  {
   "cell_type": "code",
   "execution_count": null,
   "metadata": {
    "id": "IMWHF7RBkg9J"
   },
   "outputs": [],
   "source": [
    "def fit( x, y, w, iterations, l2_penality, learning_rate) :\n",
    "  b = 0\t\n",
    "  m, n = x.shape\n",
    "      \n",
    "  for i in range( iterations ) :\t\t\t\n",
    "    w, b = change_weights(x, y, w, b, l2_penality, learning_rate)\t\t\n",
    "  return w, b"
   ]
  },
  {
   "cell_type": "markdown",
   "metadata": {
    "id": "9JaYCzOSJvl2"
   },
   "source": [
    "**Finding Weight using OLS**"
   ]
  },
  {
   "cell_type": "code",
   "execution_count": null,
   "metadata": {
    "colab": {
     "base_uri": "https://localhost:8080/"
    },
    "id": "gH__y-3grmjh",
    "outputId": "de272fb3-b162-43ab-e837-686e38797c65"
   },
   "outputs": [
    {
     "data": {
      "text/plain": [
       "array([[ 5803.7301304 ],\n",
       "       [16350.6688193 ],\n",
       "       [ -215.64962067]])"
      ]
     },
     "execution_count": 24,
     "metadata": {},
     "output_type": "execute_result"
    }
   ],
   "source": [
    "w = CalculateOLS(x_train, y_train, lam = 10)\n",
    "w"
   ]
  },
  {
   "cell_type": "markdown",
   "metadata": {
    "id": "sDYXDomBJ0V3"
   },
   "source": [
    "**Train Model**"
   ]
  },
  {
   "cell_type": "code",
   "execution_count": null,
   "metadata": {
    "colab": {
     "base_uri": "https://localhost:8080/"
    },
    "id": "HKbpNoqcrt1D",
    "outputId": "2fe43604-8fd7-4c50-c329-af09460c3a5a"
   },
   "outputs": [
    {
     "name": "stdout",
     "output_type": "stream",
     "text": [
      "Time for Training the model :  6.515612602233887\n"
     ]
    }
   ],
   "source": [
    "x_train=np.array(x_train)\n",
    "y_train=np.array(y_train)\n",
    "t1 = time()\n",
    "w, b = fit(x_train, y_train, w, 200000, 2, np.exp(-2))\n",
    "t2 = time()\n",
    "print(\"Time for Training the model : \", t2 - t1)"
   ]
  },
  {
   "cell_type": "markdown",
   "metadata": {
    "id": "E0hZpDrkJ-tc"
   },
   "source": [
    "**Weight , Bias**"
   ]
  },
  {
   "cell_type": "code",
   "execution_count": null,
   "metadata": {
    "colab": {
     "base_uri": "https://localhost:8080/"
    },
    "id": "wk74n3onxzxB",
    "outputId": "3de97a17-d008-45c0-9d22-b704a2ee05d2"
   },
   "outputs": [
    {
     "data": {
      "text/plain": [
       "(array([[ 100.83442789],\n",
       "        [2829.51517916],\n",
       "        [-912.76826531]]), 12069.329195490542)"
      ]
     },
     "execution_count": 47,
     "metadata": {},
     "output_type": "execute_result"
    }
   ],
   "source": [
    "w,b"
   ]
  },
  {
   "cell_type": "markdown",
   "metadata": {
    "id": "XsoxXNQ_KERO"
   },
   "source": [
    "**Find Predicted Y**"
   ]
  },
  {
   "cell_type": "code",
   "execution_count": null,
   "metadata": {
    "colab": {
     "base_uri": "https://localhost:8080/"
    },
    "id": "xlNpCOTOx3FV",
    "outputId": "246c5cdc-4b3a-43c9-f50e-3e48a9387948"
   },
   "outputs": [
    {
     "data": {
      "text/plain": [
       "array([[13488.99188998],\n",
       "       [13540.0081351 ],\n",
       "       [12654.35634808],\n",
       "       [13375.46661407],\n",
       "       [13083.77974705],\n",
       "       [13398.01322964],\n",
       "       [13164.61877299],\n",
       "       [13523.76367127],\n",
       "       [13893.42989973],\n",
       "       [13855.59691142],\n",
       "       [12458.57201275],\n",
       "       [14247.7641977 ],\n",
       "       [14179.15158412],\n",
       "       [13194.73040715],\n",
       "       [13606.13475511],\n",
       "       [12838.15756665],\n",
       "       [13976.19978363],\n",
       "       [14116.95190008],\n",
       "       [13472.50454609],\n",
       "       [13611.74759128],\n",
       "       [14114.46715314],\n",
       "       [12895.47430134],\n",
       "       [13643.28009001],\n",
       "       [14143.04839158],\n",
       "       [12153.07897525],\n",
       "       [13339.2091637 ],\n",
       "       [13726.67157619],\n",
       "       [14097.95723816],\n",
       "       [12532.7092558 ],\n",
       "       [13147.42078905],\n",
       "       [13706.14527191],\n",
       "       [13760.20098402],\n",
       "       [12947.66181753],\n",
       "       [13977.79747713],\n",
       "       [13882.97842534],\n",
       "       [13709.49657889],\n",
       "       [13899.64384478],\n",
       "       [13166.45720407],\n",
       "       [13773.09330977],\n",
       "       [13574.18088522],\n",
       "       [13728.37921639],\n",
       "       [13663.36286757],\n",
       "       [13443.88024316],\n",
       "       [13651.49052862],\n",
       "       [13568.25620906],\n",
       "       [13342.0927107 ],\n",
       "       [13703.72616056],\n",
       "       [12402.9407627 ],\n",
       "       [14162.68598025],\n",
       "       [13300.15346423],\n",
       "       [14012.30339172],\n",
       "       [13753.16686775],\n",
       "       [14190.80195195],\n",
       "       [13212.3242176 ],\n",
       "       [13502.77293134],\n",
       "       [13154.58825421],\n",
       "       [13610.2619222 ],\n",
       "       [13575.93283654],\n",
       "       [12717.15381667],\n",
       "       [13207.49104618],\n",
       "       [13322.05465979],\n",
       "       [12661.69981109],\n",
       "       [13894.58448205],\n",
       "       [13468.68797237],\n",
       "       [13688.81435461],\n",
       "       [13563.59523085],\n",
       "       [12695.58537003],\n",
       "       [13690.54622809],\n",
       "       [14126.56146323],\n",
       "       [14136.34577761],\n",
       "       [13204.89047018],\n",
       "       [12342.16111214],\n",
       "       [13843.65810579],\n",
       "       [12543.5599458 ],\n",
       "       [12155.32001104],\n",
       "       [13913.44662616],\n",
       "       [13931.28629022],\n",
       "       [13819.60408113],\n",
       "       [13861.98726986],\n",
       "       [13754.43056569],\n",
       "       [13246.76449659],\n",
       "       [13925.76249184],\n",
       "       [13415.9862426 ],\n",
       "       [12113.26957124],\n",
       "       [12692.67883639],\n",
       "       [13162.44503496],\n",
       "       [13753.2998011 ],\n",
       "       [13568.10028907],\n",
       "       [13663.58442316],\n",
       "       [12992.64475117],\n",
       "       [13538.76534609],\n",
       "       [13380.6367546 ],\n",
       "       [13919.21579786],\n",
       "       [13839.59657429],\n",
       "       [13971.65124538],\n",
       "       [13297.82422175],\n",
       "       [13501.10877117],\n",
       "       [13433.36063993],\n",
       "       [14476.76693195],\n",
       "       [13668.68851256],\n",
       "       [14254.66538062],\n",
       "       [12472.99556532],\n",
       "       [13904.48082084],\n",
       "       [13775.42296779],\n",
       "       [14474.74662066],\n",
       "       [14138.56548892],\n",
       "       [13902.01739838],\n",
       "       [13728.37921639],\n",
       "       [13523.69803568],\n",
       "       [13490.06082361],\n",
       "       [13763.28559321],\n",
       "       [13684.7570433 ],\n",
       "       [13660.45550285],\n",
       "       [13306.70057375],\n",
       "       [13841.08432107],\n",
       "       [14309.54043287],\n",
       "       [13944.80063379],\n",
       "       [13991.46607853],\n",
       "       [13894.82902428],\n",
       "       [14289.54752417],\n",
       "       [13845.41130374],\n",
       "       [13985.56480455],\n",
       "       [13201.67292763],\n",
       "       [13180.05975434],\n",
       "       [13763.64008216],\n",
       "       [13937.87771086],\n",
       "       [13705.50192961],\n",
       "       [14183.21145345],\n",
       "       [12694.18624548],\n",
       "       [13965.72656922],\n",
       "       [13216.92087161],\n",
       "       [13680.42750262],\n",
       "       [13030.90077281],\n",
       "       [13695.27284189],\n",
       "       [14153.2774793 ],\n",
       "       [14419.51583284],\n",
       "       [13877.58631368],\n",
       "       [13890.30097942],\n",
       "       [12481.76113953],\n",
       "       [13674.9906643 ],\n",
       "       [13797.90145452],\n",
       "       [13106.56626912],\n",
       "       [13426.85991924],\n",
       "       [13826.08264626],\n",
       "       [13366.92342654],\n",
       "       [13965.19317364],\n",
       "       [13959.46789751],\n",
       "       [13716.84128853],\n",
       "       [13873.45914659],\n",
       "       [13972.31591215],\n",
       "       [13459.05833136],\n",
       "       [14102.59564527],\n",
       "       [13590.02447127],\n",
       "       [13283.49143389],\n",
       "       [13596.99212087],\n",
       "       [13554.60893214],\n",
       "       [14060.61167215],\n",
       "       [14188.84935397],\n",
       "       [14109.98425049],\n",
       "       [13679.9388337 ],\n",
       "       [14284.4446814 ],\n",
       "       [13690.87897701],\n",
       "       [14065.31613039],\n",
       "       [13599.67668337],\n",
       "       [12353.1242421 ],\n",
       "       [14085.79812356],\n",
       "       [14338.23286464],\n",
       "       [14047.11906859],\n",
       "       [12621.93596482],\n",
       "       [13755.56216136],\n",
       "       [13726.22763393],\n",
       "       [12705.79230219],\n",
       "       [13294.42860365],\n",
       "       [13665.24941442],\n",
       "       [13374.13561837],\n",
       "       [13831.87563569],\n",
       "       [12938.54472794],\n",
       "       [13901.46392495],\n",
       "       [13885.6203389 ],\n",
       "       [12503.66233509],\n",
       "       [13655.64109789],\n",
       "       [13724.71856267],\n",
       "       [13740.09646644],\n",
       "       [13589.78034458],\n",
       "       [13667.7120058 ],\n",
       "       [13957.31548396],\n",
       "       [13530.39857194],\n",
       "       [12291.83459814],\n",
       "       [13847.23013728],\n",
       "       [13611.6811246 ],\n",
       "       [12874.74776595],\n",
       "       [13955.82939935],\n",
       "       [14588.31579214],\n",
       "       [13333.77107876],\n",
       "       [14293.54258899],\n",
       "       [13800.03212805],\n",
       "       [14221.26807506],\n",
       "       [13086.15454727],\n",
       "       [13494.36184608],\n",
       "       [13647.80771933],\n",
       "       [13181.63529227],\n",
       "       [13662.7186942 ],\n",
       "       [13510.31745655],\n",
       "       [13740.89531319],\n",
       "       [13634.75947358],\n",
       "       [14053.99851149],\n",
       "       [12296.36139638],\n",
       "       [14120.17027371],\n",
       "       [13117.84255046],\n",
       "       [12704.21676425],\n",
       "       [13735.1704526 ],\n",
       "       [13833.25094251],\n",
       "       [13811.88106482],\n",
       "       [13692.45451495],\n",
       "       [12887.84032281],\n",
       "       [13699.08941562],\n",
       "       [13838.84328529],\n",
       "       [13767.27858033],\n",
       "       [14082.20310542],\n",
       "       [13714.66630388],\n",
       "       [14034.24931394],\n",
       "       [13402.00663229],\n",
       "       [13127.71417568],\n",
       "       [13914.57739075],\n",
       "       [13294.18406141],\n",
       "       [12916.79820575],\n",
       "       [13800.7858326 ],\n",
       "       [13729.95475433],\n",
       "       [13978.68536165],\n",
       "       [14184.54328024],\n",
       "       [13600.31961013],\n",
       "       [13994.37344325],\n",
       "       [12642.01708021],\n",
       "       [12646.25627172],\n",
       "       [12792.97737545],\n",
       "       [13085.33271388],\n",
       "       [13292.52031678],\n",
       "       [13586.71705986],\n",
       "       [12637.75656423],\n",
       "       [13924.6969473 ],\n",
       "       [13774.64710769],\n",
       "       [13464.78319195],\n",
       "       [13237.28828234],\n",
       "       [12997.99255171],\n",
       "       [13599.16627444],\n",
       "       [13626.68279941],\n",
       "       [14164.55078708],\n",
       "       [13385.74167508],\n",
       "       [13922.36687373],\n",
       "       [13780.3055016 ],\n",
       "       [12848.78545443],\n",
       "       [13604.78077277],\n",
       "       [13916.48567761],\n",
       "       [12638.64444875],\n",
       "       [13421.31271866],\n",
       "       [13703.32694496],\n",
       "       [13919.99248905],\n",
       "       [12338.45531621],\n",
       "       [13505.39061163],\n",
       "       [13966.41422263],\n",
       "       [13272.48185034],\n",
       "       [13470.351717  ],\n",
       "       [12533.10847141],\n",
       "       [12365.90495897],\n",
       "       [13536.94526592],\n",
       "       [13372.69640289],\n",
       "       [14531.8204753 ],\n",
       "       [13476.43189761]])"
      ]
     },
     "execution_count": 48,
     "metadata": {},
     "output_type": "execute_result"
    }
   ],
   "source": [
    "y_ = predict(x_test, w, b)\n",
    "y_"
   ]
  },
  {
   "cell_type": "markdown",
   "metadata": {
    "id": "nK7LWFlLKKOq"
   },
   "source": [
    "**Loss Function**"
   ]
  },
  {
   "cell_type": "code",
   "execution_count": null,
   "metadata": {
    "id": "Lbw9uxTayBOQ"
   },
   "outputs": [],
   "source": [
    "def Squared_loss(A,B,w,t_len, lam =10):\n",
    "  return (sum(np.square(A - B)) + (lam * np.dot(np.transpose(w),w)))/ (2*t_len)"
   ]
  },
  {
   "cell_type": "markdown",
   "metadata": {
    "id": "5iH_ioyOKSnk"
   },
   "source": [
    "**Calculate Squared Loss for Testing**"
   ]
  },
  {
   "cell_type": "code",
   "execution_count": null,
   "metadata": {
    "colab": {
     "base_uri": "https://localhost:8080/"
    },
    "id": "JICnws74yqTY",
    "outputId": "fbc2ed25-084e-4824-887f-a083fb8b8430"
   },
   "outputs": [
    {
     "data": {
      "text/plain": [
       "array([[71648846.05721743]])"
      ]
     },
     "execution_count": 50,
     "metadata": {},
     "output_type": "execute_result"
    }
   ],
   "source": [
    "y_test=np.array(y_test)\n",
    "\n",
    "loss = Squared_loss(y_test, y_, w, y_test.shape[0])\n",
    "loss"
   ]
  },
  {
   "cell_type": "markdown",
   "metadata": {
    "id": "I8G3Qd8MhWmZ"
   },
   "source": [
    "**Calculate Squared Loss for Training**"
   ]
  },
  {
   "cell_type": "code",
   "execution_count": null,
   "metadata": {
    "colab": {
     "base_uri": "https://localhost:8080/"
    },
    "id": "c8WX91-KgiiZ",
    "outputId": "2073cf06-1364-4f10-a054-533fcede82c9"
   },
   "outputs": [
    {
     "data": {
      "text/plain": [
       "array([74374720.96260607])"
      ]
     },
     "execution_count": 65,
     "metadata": {},
     "output_type": "execute_result"
    }
   ],
   "source": [
    "y_train_pred = np.array(y_train)\n",
    "loss_train = Squared_loss(y_train,predict(x_train, w, b)[0], w, y_train.shape[0])\n",
    "loss_train"
   ]
  },
  {
   "cell_type": "markdown",
   "metadata": {
    "id": "ea4fvoHGKYwU"
   },
   "source": [
    "**Plot Graph of Predicted output and Actual output**\n",
    "\n",
    "**Color Classification:**\n",
    "(Blue dots : Actual Output Data), \n",
    "(Orange : Predicted Output)"
   ]
  },
  {
   "cell_type": "code",
   "execution_count": null,
   "metadata": {
    "colab": {
     "base_uri": "https://localhost:8080/",
     "height": 265
    },
    "id": "oztyb0UmyzzZ",
    "outputId": "e9b48654-c963-4306-8d87-2c973ba11eb2"
   },
   "outputs": [
    {
     "data": {
      "image/png": "[encoded data removed]",
      "text/plain": [
       "<Figure size 432x288 with 1 Axes>"
      ]
     },
     "metadata": {
      "needs_background": "light"
     },
     "output_type": "display_data"
    }
   ],
   "source": [
    "plt.scatter([i for i in range (y_test.shape[0])], y_test)\n",
    "plt.scatter([i for i in range (y_.shape[0])], y_)\n",
    "plt.plot()\n",
    "plt.show()"
   ]
  },
  {
   "cell_type": "markdown",
   "metadata": {
    "id": "aU2z9lrG7ky6"
   },
   "source": [
    "**Gradient descent using SK LEARN**"
   ]
  },
  {
   "cell_type": "markdown",
   "metadata": {
    "id": "Q7suw6gFLUyg"
   },
   "source": [
    "Calculate Predicted Time to train the model"
   ]
  },
  {
   "cell_type": "code",
   "execution_count": 76,
   "metadata": {
    "colab": {
     "base_uri": "https://localhost:8080/"
    },
    "id": "S1_S67A57nno",
    "outputId": "668d02ba-6f1b-4bb3-abce-3ff55a9e707b"
   },
   "outputs": [
    {
     "name": "stdout",
     "output_type": "stream",
     "text": [
      "predict time:  0.010349750518798828\n"
     ]
    },
    {
     "data": {
      "text/plain": [
       "0.0018543445281785642"
      ]
     },
     "execution_count": 76,
     "metadata": {},
     "output_type": "execute_result"
    }
   ],
   "source": [
    "\n",
    "from sklearn.linear_model import Ridge\n",
    "\n",
    "t0=time()\n",
    "rdg = Ridge(alpha = np.exp(-2),max_iter=200000, solver = \"sag\")\n",
    "\n",
    "rdg.fit(x_train,y_train)\n",
    "t1=time()\n",
    "\n",
    "print (\"predict time: \",(t1-t0))\n",
    "\n",
    "rdg.score(x_train,y_train)\n"
   ]
  },
  {
   "cell_type": "markdown",
   "metadata": {
    "id": "HS3M4P1gLiWj"
   },
   "source": [
    "Predict the value of Y"
   ]
  },
  {
   "cell_type": "code",
   "execution_count": 77,
   "metadata": {
    "id": "fCG0KDA97qQ6"
   },
   "outputs": [],
   "source": [
    "x_test = np.array(x_test)\n",
    "y_pred=rdg.predict(x_test)"
   ]
  },
  {
   "cell_type": "markdown",
   "metadata": {
    "id": "DGRlz8D0hl6b"
   },
   "source": [
    "**Testing Loss Calculation**"
   ]
  },
  {
   "cell_type": "code",
   "execution_count": 78,
   "metadata": {
    "colab": {
     "base_uri": "https://localhost:8080/"
    },
    "id": "hvwaT9gl7sfG",
    "outputId": "dd6fd73d-87b8-4a45-caec-e8034f6401fe"
   },
   "outputs": [
    {
     "data": {
      "text/plain": [
       "array([71747207.82940386])"
      ]
     },
     "execution_count": 78,
     "metadata": {},
     "output_type": "execute_result"
    }
   ],
   "source": [
    "#calculating test error and accuracy\n",
    "\n",
    "w = rdg.coef_[0]\n",
    "loss2 = Squared_loss(y_test, y_pred, np.array(w), y_test.shape[0])\n",
    "loss2"
   ]
  },
  {
   "cell_type": "code",
   "execution_count": 79,
   "metadata": {
    "colab": {
     "base_uri": "https://localhost:8080/"
    },
    "id": "RM0ZRbsmhxsz",
    "outputId": "c77bf55b-8129-450d-9a14-25cde7aad151"
   },
   "outputs": [
    {
     "data": {
      "text/plain": [
       "array([74234137.47551335])"
      ]
     },
     "execution_count": 79,
     "metadata": {},
     "output_type": "execute_result"
    }
   ],
   "source": [
    "#Training Loss Calculation\n",
    "w = rdg.coef_[0]\n",
    "loss2 = Squared_loss(y_train, rdg.predict(x_train)[0], np.array(w), y_train.shape[0])\n",
    "loss2"
   ]
  },
  {
   "cell_type": "markdown",
   "metadata": {
    "id": "t4gD4eZ_MAIJ"
   },
   "source": [
    "**Graph for Actual Output vs Predicted Output using SKlearn**\n",
    "\n",
    "**Color Classification:**\n",
    "(Blue dots : Actual Output Data), \n",
    "(Orange : Predicted Output)\n",
    "\n",
    "**Axis Classification:**\n",
    "(x : Number of outputs),\n",
    "(y : Output Data)"
   ]
  },
  {
   "cell_type": "code",
   "execution_count": 80,
   "metadata": {
    "colab": {
     "base_uri": "https://localhost:8080/",
     "height": 265
    },
    "id": "2yhRKRVT966x",
    "outputId": "569a7167-95df-4752-a06c-2784b453b5cb"
   },
   "outputs": [
    {
     "data": {
      "image/png": "[encoded data removed]",
      "text/plain": [
       "<Figure size 432x288 with 1 Axes>"
      ]
     },
     "metadata": {
      "needs_background": "light"
     },
     "output_type": "display_data"
    }
   ],
   "source": [
    "plt.scatter([i for i in range (y_test.shape[0])], y_test)\n",
    "plt.scatter([i for i in range (y_pred.shape[0])], y_pred)\n",
    "plt.plot()\n",
    "plt.show()"
   ]
  },
  {
   "cell_type": "markdown",
   "metadata": {
    "id": "7yNV2zREMnaL"
   },
   "source": []
  },
  {
   "cell_type": "markdown",
   "metadata": {
    "id": "aqXNV2LMMsCB"
   },
   "source": [
    "**Graph for Predicted Output Implemented from Scratch vs SKlearn**\n",
    "\n",
    "**Color Classification:** (Blue dots : SKLearn Predicted Output Data), (Orange : From Scratch Predicted Output)\n",
    "\n",
    "**Axis Classification:**\n",
    "(x : Number of outputs),\n",
    "(y : Output Data)"
   ]
  },
  {
   "cell_type": "code",
   "execution_count": 81,
   "metadata": {
    "colab": {
     "base_uri": "https://localhost:8080/",
     "height": 265
    },
    "id": "LYoK4KbK-IDP",
    "outputId": "b565cc5d-518a-4ae3-eef8-4b4de889b164"
   },
   "outputs": [
    {
     "data": {
      "image/png": "[encoded data removed]",
      "text/plain": [
       "<Figure size 432x288 with 1 Axes>"
      ]
     },
     "metadata": {
      "needs_background": "light"
     },
     "output_type": "display_data"
    }
   ],
   "source": [
    "plt.scatter([i for i in range (y_.shape[0])], y_)\n",
    "plt.scatter([i for i in range (y_pred.shape[0])], y_pred)\n",
    "plt.plot()\n",
    "plt.show()\n",
    "\n"
   ]
  }
 ],
 "metadata": {
  "colab": {
   "collapsed_sections": [],
   "name": "Part5.ipynb",
   "provenance": []
  },
  "kernelspec": {
   "display_name": "Python 3 (ipykernel)",
   "language": "python",
   "name": "python3"
  },
  "language_info": {
   "codemirror_mode": {
    "name": "ipython",
    "version": 3
   },
   "file_extension": ".py",
   "mimetype": "text/x-python",
   "name": "python",
   "nbconvert_exporter": "python",
   "pygments_lexer": "ipython3",
   "version": "3.9.7"
  }
 },
 "nbformat": 4,
 "nbformat_minor": 1
}
